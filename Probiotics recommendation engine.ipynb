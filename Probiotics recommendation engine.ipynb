{
 "cells": [
  {
   "cell_type": "code",
   "execution_count": 61,
   "metadata": {
    "scrolled": true
   },
   "outputs": [
    {
     "data": {
      "text/html": [
       "<div>\n",
       "<style scoped>\n",
       "    .dataframe tbody tr th:only-of-type {\n",
       "        vertical-align: middle;\n",
       "    }\n",
       "\n",
       "    .dataframe tbody tr th {\n",
       "        vertical-align: top;\n",
       "    }\n",
       "\n",
       "    .dataframe thead th {\n",
       "        text-align: right;\n",
       "    }\n",
       "</style>\n",
       "<table border=\"1\" class=\"dataframe\">\n",
       "  <thead>\n",
       "    <tr style=\"text-align: right;\">\n",
       "      <th></th>\n",
       "      <th>Name</th>\n",
       "      <th>Genus</th>\n",
       "      <th>Detailed Effect</th>\n",
       "    </tr>\n",
       "  </thead>\n",
       "  <tbody>\n",
       "    <tr>\n",
       "      <th>0</th>\n",
       "      <td>Acinetobacter calcoaceticus</td>\n",
       "      <td>Acinetobacter</td>\n",
       "      <td>Maintains Healthy GI-Tract MicroFloral Ecologi...</td>\n",
       "    </tr>\n",
       "    <tr>\n",
       "      <th>1</th>\n",
       "      <td>Akkermansia muciniphila</td>\n",
       "      <td>Akkermansia</td>\n",
       "      <td>[1] Treating Metabolic Disorders. [2] is a muc...</td>\n",
       "    </tr>\n",
       "    <tr>\n",
       "      <th>2</th>\n",
       "      <td>Arthrobacter citreus</td>\n",
       "      <td>Arthrobacter</td>\n",
       "      <td>Maintains Healthy GI-Tract MicroFloral Ecologi...</td>\n",
       "    </tr>\n",
       "    <tr>\n",
       "      <th>3</th>\n",
       "      <td>Arthrobacter globiformis</td>\n",
       "      <td>Arthrobacter</td>\n",
       "      <td>Maintains Healthy GI-Tract MicroFloral Ecologi...</td>\n",
       "    </tr>\n",
       "    <tr>\n",
       "      <th>4</th>\n",
       "      <td>Arthrobacter luteus</td>\n",
       "      <td>Arthrobacter</td>\n",
       "      <td>Maintains Healthy GI-Tract MicroFloral Ecologi...</td>\n",
       "    </tr>\n",
       "  </tbody>\n",
       "</table>\n",
       "</div>"
      ],
      "text/plain": [
       "                          Name          Genus  \\\n",
       "0  Acinetobacter calcoaceticus  Acinetobacter   \n",
       "1      Akkermansia muciniphila    Akkermansia   \n",
       "2         Arthrobacter citreus   Arthrobacter   \n",
       "3     Arthrobacter globiformis   Arthrobacter   \n",
       "4          Arthrobacter luteus   Arthrobacter   \n",
       "\n",
       "                                     Detailed Effect  \n",
       "0  Maintains Healthy GI-Tract MicroFloral Ecologi...  \n",
       "1  [1] Treating Metabolic Disorders. [2] is a muc...  \n",
       "2  Maintains Healthy GI-Tract MicroFloral Ecologi...  \n",
       "3  Maintains Healthy GI-Tract MicroFloral Ecologi...  \n",
       "4  Maintains Healthy GI-Tract MicroFloral Ecologi...  "
      ]
     },
     "execution_count": 61,
     "metadata": {},
     "output_type": "execute_result"
    }
   ],
   "source": [
    "import numpy as np\n",
    "import pandas as pd\n",
    "\n",
    "# Goal: \n",
    "# Predict name of the probiotic (genus level) based on the detailed effect free text column\n",
    "# Create category id column which you actually predics \n",
    "# Not on species level, rather on genus, so combine classes based on the first word in the Name column\n",
    "df = pd.read_excel(r\"Probioticsdata.xlsx\")\n",
    "df\n",
    "nimet = df[['Name']]\n",
    "\n",
    "#nimet.shape, tästä koko\n",
    "genus = [None] * 917\n",
    "\n",
    "for i in range(917):\n",
    "    nimi = nimet.Name[i]\n",
    "    nimi = nimi.split(\" \")\n",
    "    genus[i] = nimi[0]\n",
    "\n",
    "df['Strain'] = pd.Series(genus, index=df.index) # replacee strain columni genus datal, rename, parsi dataa\n",
    "df = df[['Name','Strain','Detailed Effect']]\n",
    "df.columns = ['Name', 'Genus', 'Detailed Effect']\n",
    "df.head()"
   ]
  },
  {
   "cell_type": "code",
   "execution_count": 62,
   "metadata": {},
   "outputs": [
    {
     "data": {
      "text/html": [
       "<div>\n",
       "<style scoped>\n",
       "    .dataframe tbody tr th:only-of-type {\n",
       "        vertical-align: middle;\n",
       "    }\n",
       "\n",
       "    .dataframe tbody tr th {\n",
       "        vertical-align: top;\n",
       "    }\n",
       "\n",
       "    .dataframe thead th {\n",
       "        text-align: right;\n",
       "    }\n",
       "</style>\n",
       "<table border=\"1\" class=\"dataframe\">\n",
       "  <thead>\n",
       "    <tr style=\"text-align: right;\">\n",
       "      <th></th>\n",
       "      <th>Genus</th>\n",
       "      <th>Detailed_Effect</th>\n",
       "      <th>genus_id</th>\n",
       "    </tr>\n",
       "  </thead>\n",
       "  <tbody>\n",
       "    <tr>\n",
       "      <th>0</th>\n",
       "      <td>Acinetobacter</td>\n",
       "      <td>Maintains Healthy GI-Tract MicroFloral Ecologi...</td>\n",
       "      <td>0</td>\n",
       "    </tr>\n",
       "    <tr>\n",
       "      <th>1</th>\n",
       "      <td>Akkermansia</td>\n",
       "      <td>[1] Treating Metabolic Disorders. [2] is a muc...</td>\n",
       "      <td>1</td>\n",
       "    </tr>\n",
       "    <tr>\n",
       "      <th>2</th>\n",
       "      <td>Arthrobacter</td>\n",
       "      <td>Maintains Healthy GI-Tract MicroFloral Ecologi...</td>\n",
       "      <td>2</td>\n",
       "    </tr>\n",
       "    <tr>\n",
       "      <th>3</th>\n",
       "      <td>Arthrobacter</td>\n",
       "      <td>Maintains Healthy GI-Tract MicroFloral Ecologi...</td>\n",
       "      <td>2</td>\n",
       "    </tr>\n",
       "    <tr>\n",
       "      <th>4</th>\n",
       "      <td>Arthrobacter</td>\n",
       "      <td>Maintains Healthy GI-Tract MicroFloral Ecologi...</td>\n",
       "      <td>2</td>\n",
       "    </tr>\n",
       "  </tbody>\n",
       "</table>\n",
       "</div>"
      ],
      "text/plain": [
       "           Genus                                    Detailed_Effect  genus_id\n",
       "0  Acinetobacter  Maintains Healthy GI-Tract MicroFloral Ecologi...         0\n",
       "1    Akkermansia  [1] Treating Metabolic Disorders. [2] is a muc...         1\n",
       "2   Arthrobacter  Maintains Healthy GI-Tract MicroFloral Ecologi...         2\n",
       "3   Arthrobacter  Maintains Healthy GI-Tract MicroFloral Ecologi...         2\n",
       "4   Arthrobacter  Maintains Healthy GI-Tract MicroFloral Ecologi...         2"
      ]
     },
     "execution_count": 62,
     "metadata": {},
     "output_type": "execute_result"
    }
   ],
   "source": [
    "# Add genus IDs which you actually try to predict\n",
    "\n",
    "from io import StringIO\n",
    "\n",
    "col = ['Genus', 'Detailed Effect']\n",
    "df = df[col]\n",
    "df = df[pd.notnull(df['Detailed Effect'])]\n",
    "df.columns = ['Genus', 'Detailed_Effect']\n",
    "df['genus_id'] = df['Genus'].factorize()[0]\n",
    "species_id_df = df[['Genus', 'genus_id']].drop_duplicates().sort_values('genus_id')\n",
    "specis_to_id = dict(species_id_df.values)\n",
    "id_to_species = dict(species_id_df[['genus_id', 'Genus']].values)\n",
    "df.head()\n",
    "\n",
    "\n",
    "# In total 38 different genuses :) better for predicting, more data per genus\n"
   ]
  },
  {
   "cell_type": "code",
   "execution_count": 43,
   "metadata": {},
   "outputs": [],
   "source": [
    "# Extract X key words from the free text field, using rake-nltk\n",
    "#!/usr/bin/env python\n",
    "\n"
   ]
  },
  {
   "cell_type": "code",
   "execution_count": 63,
   "metadata": {
    "scrolled": true
   },
   "outputs": [
    {
     "data": {
      "image/png": "[encoded data removed]",
      "text/plain": [
       "<Figure size 576x432 with 1 Axes>"
      ]
     },
     "metadata": {},
     "output_type": "display_data"
    }
   ],
   "source": [
    "import matplotlib.pyplot as plt\n",
    "fig = plt.figure(figsize=(8,6))\n",
    "df.groupby('genus_id').Detailed_Effect.count().plot.bar(ylim=0)\n",
    "plt.show()"
   ]
  },
  {
   "cell_type": "code",
   "execution_count": 51,
   "metadata": {},
   "outputs": [
    {
     "data": {
      "text/plain": [
       "(917, 303)"
      ]
     },
     "execution_count": 51,
     "metadata": {},
     "output_type": "execute_result"
    }
   ],
   "source": [
    "from sklearn.feature_extraction.text import TfidfVectorizer\n",
    "tfidf = TfidfVectorizer(sublinear_tf=True, min_df=10, norm='l2', encoding='latin-1', ngram_range=(1, 2), stop_words='english')\n",
    "features = tfidf.fit_transform(df.Detailed_Effect).toarray()\n",
    "labels = df.genus_id\n",
    "features.shape"
   ]
  },
  {
   "cell_type": "code",
   "execution_count": 54,
   "metadata": {},
   "outputs": [
    {
     "name": "stdout",
     "output_type": "stream",
     "text": [
      "Acinetobacter\n",
      "  . Most correlated unigrams:\n",
      ". microfloral\n",
      ". normal\n",
      "  . Most correlated bigrams:\n",
      ". microfloral ecologies\n",
      ". gut immune\n",
      "Akkermansia\n",
      "  . Most correlated unigrams:\n",
      ". body\n",
      ". disorders\n",
      "  . Most correlated bigrams:\n",
      ". available soon\n",
      ". info available\n",
      "Arthrobacter\n",
      "  . Most correlated unigrams:\n",
      ". microfloral\n",
      ". normal\n",
      "  . Most correlated bigrams:\n",
      ". microfloral ecologies\n",
      ". gut immune\n",
      "Atopobium\n",
      "  . Most correlated unigrams:\n",
      ". time\n",
      ". effects\n",
      "  . Most correlated bigrams:\n",
      ". available soon\n",
      ". info available\n",
      "Azomonas\n",
      "  . Most correlated unigrams:\n",
      ". microfloral\n",
      ". normal\n",
      "  . Most correlated bigrams:\n",
      ". microfloral ecologies\n",
      ". gut immune\n",
      "Azospirillum\n",
      "  . Most correlated unigrams:\n",
      ". microfloral\n",
      ". normal\n",
      "  . Most correlated bigrams:\n",
      ". microfloral ecologies\n",
      ". gut immune\n",
      "Azotobacter\n",
      "  . Most correlated unigrams:\n",
      ". microfloral\n",
      ". normal\n",
      "  . Most correlated bigrams:\n",
      ". microfloral ecologies\n",
      ". gut immune\n",
      "Bacillus\n",
      "  . Most correlated unigrams:\n",
      ". protective\n",
      ". bacillus\n",
      "  . Most correlated bigrams:\n",
      ". support digestive\n",
      ". maintains healthy\n",
      "Bacteroides\n",
      "  . Most correlated unigrams:\n",
      ". pathogenic\n",
      ". probiotics\n",
      "  . Most correlated bigrams:\n",
      ". gut immune\n",
      ". microfloral ecologies\n",
      "Bifidobacterium\n",
      "  . Most correlated unigrams:\n",
      ". maintain\n",
      ". lactis\n",
      "  . Most correlated bigrams:\n",
      ". gas bloating\n",
      ". promotes digestive\n",
      "Brevibacillus\n",
      "  . Most correlated unigrams:\n",
      ". intestines\n",
      ". inhibit\n",
      "  . Most correlated bigrams:\n",
      ". available soon\n",
      ". info available\n",
      "Butyricicoccus\n",
      "  . Most correlated unigrams:\n",
      ". properties\n",
      ". producing\n",
      "  . Most correlated bigrams:\n",
      ". available soon\n",
      ". info available\n",
      "Butyrivibrio\n",
      "  . Most correlated unigrams:\n",
      ". administration\n",
      ". enterocolitis\n",
      "  . Most correlated bigrams:\n",
      ". info available\n",
      ". available soon\n",
      "Clostridium\n",
      "  . Most correlated unigrams:\n",
      ". probiotics\n",
      ". antibiotic\n",
      "  . Most correlated bigrams:\n",
      ". hospital stay\n",
      ". intestinal flora\n",
      "Corynebacterium\n",
      "  . Most correlated unigrams:\n",
      ". assists\n",
      ". used\n",
      "  . Most correlated bigrams:\n",
      ". normal absorption\n",
      ". promotes normal\n",
      "Enterococcus\n",
      "  . Most correlated unigrams:\n",
      ". culture\n",
      ". treatment\n",
      "  . Most correlated bigrams:\n",
      ". anti inflammatory\n",
      ". immune response\n",
      "Escherichia\n",
      "  . Most correlated unigrams:\n",
      ". efficacy\n",
      ". disorders\n",
      "  . Most correlated bigrams:\n",
      ". stabilizing gut\n",
      ". probiotic treatment\n",
      "Faecalibacterium\n",
      "  . Most correlated unigrams:\n",
      ". anti\n",
      ". inflammatory\n",
      "  . Most correlated bigrams:\n",
      ". probiotic treatment\n",
      ". anti inflammatory\n",
      "Janthinobacterium\n",
      "  . Most correlated unigrams:\n",
      ". available\n",
      ". growth\n",
      "  . Most correlated bigrams:\n",
      ". info available\n",
      ". available soon\n",
      "Kurthia\n",
      "  . Most correlated unigrams:\n",
      ". microfloral\n",
      ". normal\n",
      "  . Most correlated bigrams:\n",
      ". microfloral ecologies\n",
      ". gut immune\n",
      "Lactibacillus\n",
      "  . Most correlated unigrams:\n",
      ". health\n",
      ". supporting\n",
      "  . Most correlated bigrams:\n",
      ". immune health\n",
      ". intestinal health\n",
      "Lactobacillus\n",
      "  . Most correlated unigrams:\n",
      ". bacillus\n",
      ". lactobacillus\n",
      "  . Most correlated bigrams:\n",
      ". mucosal barrier\n",
      ". maintains healthy\n",
      "Lactococcus\n",
      "  . Most correlated unigrams:\n",
      ". colon\n",
      ". antibiotic\n",
      "  . Most correlated bigrams:\n",
      ". colon health\n",
      ". overall immune\n",
      "Leuconostoc\n",
      "  . Most correlated unigrams:\n",
      ". colon\n",
      ". overall\n",
      "  . Most correlated bigrams:\n",
      ". colon health\n",
      ". overall immune\n",
      "Lysinibacillus\n",
      "  . Most correlated unigrams:\n",
      ". potential\n",
      ". antimicrobial\n",
      "  . Most correlated bigrams:\n",
      ". available soon\n",
      ". info available\n",
      "Oenococcus\n",
      "  . Most correlated unigrams:\n",
      ". natural\n",
      ". strains\n",
      "  . Most correlated bigrams:\n",
      ". info available\n",
      ". available soon\n",
      "Oxalobacter\n",
      "  . Most correlated unigrams:\n",
      ". help\n",
      ". disease\n",
      "  . Most correlated bigrams:\n",
      ". info available\n",
      ". available soon\n",
      "Paenibacillus\n",
      "  . Most correlated unigrams:\n",
      ". inhibit\n",
      ". escherichia\n",
      "  . Most correlated bigrams:\n",
      ". normal bowel\n",
      ". normal absorption\n",
      "Paracoccus\n",
      "  . Most correlated unigrams:\n",
      ". microfloral\n",
      ". normal\n",
      "  . Most correlated bigrams:\n",
      ". microfloral ecologies\n",
      ". gut immune\n",
      "Pediococcus\n",
      "  . Most correlated unigrams:\n",
      ". low\n",
      ". production\n",
      "  . Most correlated bigrams:\n",
      ". help safely\n",
      ". repopulate gut\n",
      "Propionibacterium\n",
      "  . Most correlated unigrams:\n",
      ". increased\n",
      ". cell\n",
      "  . Most correlated bigrams:\n",
      ". digestive health\n",
      ". immune health\n",
      "Pseudomonas\n",
      "  . Most correlated unigrams:\n",
      ". microfloral\n",
      ". normal\n",
      "  . Most correlated bigrams:\n",
      ". microfloral ecologies\n",
      ". gut immune\n",
      "Roseburia\n",
      "  . Most correlated unigrams:\n",
      ". disease\n",
      ". producing\n",
      "  . Most correlated bigrams:\n",
      ". info available\n",
      ". available soon\n",
      "Sporosarcina\n",
      "  . Most correlated unigrams:\n",
      ". probiotic\n",
      ". supplementation\n",
      "  . Most correlated bigrams:\n",
      ". info available\n",
      ". available soon\n",
      "Staphylococcus\n",
      "  . Most correlated unigrams:\n",
      ". growth\n",
      ". inhibit\n",
      "  . Most correlated bigrams:\n",
      ". available soon\n",
      ". info available\n",
      "Streptococcus\n",
      "  . Most correlated unigrams:\n",
      ". significant\n",
      ". oral\n",
      "  . Most correlated bigrams:\n",
      ". significantly reduced\n",
      ". hospital stay\n",
      "Streptomyces\n",
      "  . Most correlated unigrams:\n",
      ". microfloral\n",
      ". normal\n",
      "  . Most correlated bigrams:\n",
      ". microfloral ecologies\n",
      ". gut immune\n",
      "Tetragenococcus\n",
      "  . Most correlated unigrams:\n",
      ". available\n",
      ". soon\n",
      "  . Most correlated bigrams:\n",
      ". available soon\n",
      ". info available\n",
      "Weissella\n",
      "  . Most correlated unigrams:\n",
      ". expression\n",
      ". fermented\n",
      "  . Most correlated bigrams:\n",
      ". info available\n",
      ". available soon\n"
     ]
    }
   ],
   "source": [
    "from sklearn.feature_selection import chi2\n",
    "import numpy as np\n",
    "N = 2\n",
    "for genus, genus_id in sorted(specis_to_id.items()):\n",
    "  features_chi2 = chi2(features, labels == genus_id)\n",
    "  indices = np.argsort(features_chi2[0])\n",
    "  feature_names = np.array(tfidf.get_feature_names())[indices]\n",
    "  unigrams = [v for v in feature_names if len(v.split(' ')) == 1]\n",
    "  bigrams = [v for v in feature_names if len(v.split(' ')) == 2]\n",
    "  print(genus)\n",
    "  print(\"  . Most correlated unigrams:\\n. {}\".format('\\n. '.join(unigrams[-N:])))\n",
    "  print(\"  . Most correlated bigrams:\\n. {}\".format('\\n. '.join(bigrams[-N:])))"
   ]
  },
  {
   "cell_type": "code",
   "execution_count": 55,
   "metadata": {},
   "outputs": [],
   "source": [
    "from sklearn.model_selection import train_test_split\n",
    "from sklearn.feature_extraction.text import CountVectorizer\n",
    "from sklearn.feature_extraction.text import TfidfTransformer\n",
    "from sklearn.naive_bayes import MultinomialNB\n",
    "\n",
    "\n",
    "X_train, X_test, y_train, y_test = train_test_split(df['Detailed_Effect'], df['genus_id'], random_state = 0)\n",
    "count_vect = CountVectorizer()\n",
    "X_train_counts = count_vect.fit_transform(X_train)\n",
    "tfidf_transformer = TfidfTransformer()\n",
    "X_train_tfidf = tfidf_transformer.fit_transform(X_train_counts)\n",
    "clf = MultinomialNB().fit(X_train_tfidf, y_train)\n",
    "\n"
   ]
  },
  {
   "cell_type": "code",
   "execution_count": 66,
   "metadata": {},
   "outputs": [
    {
     "ename": "SyntaxError",
     "evalue": "invalid syntax (<ipython-input-66-cdcd732f1765>, line 2)",
     "output_type": "error",
     "traceback": [
      "\u001b[1;36m  File \u001b[1;32m\"<ipython-input-66-cdcd732f1765>\"\u001b[1;36m, line \u001b[1;32m2\u001b[0m\n\u001b[1;33m    conda install -c glemaitre imbalanced-learn\u001b[0m\n\u001b[1;37m                ^\u001b[0m\n\u001b[1;31mSyntaxError\u001b[0m\u001b[1;31m:\u001b[0m invalid syntax\n"
     ]
    }
   ],
   "source": [
    "# Very imbalanced classes , use SMOTE , install:\n",
    "# TRY : pip install -U imbalanced-learn\n",
    "# OR: conda install -c glemaitre imbalanced-learn\n",
    "# and then from imblearn.over_sampling import SMOTE\n",
    "\n",
    "sm = SMOTE(random_state=2)\n",
    "X_train_bal, y_train_bal = sm.fit_sample(X_train, y_train.ravel())"
   ]
  },
  {
   "cell_type": "code",
   "execution_count": 57,
   "metadata": {},
   "outputs": [
    {
     "name": "stdout",
     "output_type": "stream",
     "text": [
      "[21]\n",
      "[21]\n",
      "[21]\n",
      "[21]\n",
      "[21]\n",
      "[21]\n"
     ]
    }
   ],
   "source": [
    "print(clf.predict(count_vect.transform([\"immune\"])))\n",
    "print(clf.predict(count_vect.transform([\"microfloral\"])))\n",
    "print(clf.predict(count_vect.transform([\"info available\"])))\n",
    "print(clf.predict(count_vect.transform([\"treatment\"])))\n",
    "print(clf.predict(count_vect.transform([\"disorders\"])))\n",
    "print(clf.predict(count_vect.transform([\"info available\"])))"
   ]
  },
  {
   "cell_type": "code",
   "execution_count": 19,
   "metadata": {
    "scrolled": true
   },
   "outputs": [
    {
     "name": "stdout",
     "output_type": "stream",
     "text": [
      "['Credit reporting']\n"
     ]
    }
   ],
   "source": [
    "print(clf.predict(count_vect.transform([\"I am disputing the inaccurate information the Chex-Systems has on my credit report. I initially submitted a police report on XXXX/XXXX/16 and Chex Systems only deleted the items that I mentioned in the letter and not all the items that were actually listed on the police report. In other words they wanted me to say word for word to them what items were fraudulent. The total disregard of the police report and what accounts that it states that are fraudulent. If they just had paid a little closer attention to the police report I would not been in this position now and they would n't have to research once again. I would like the reported information to be removed : XXXX XXXX XXXX\"])))"
   ]
  },
  {
   "cell_type": "code",
   "execution_count": 27,
   "metadata": {},
   "outputs": [
    {
     "data": {
      "text/plain": [
       "sklearn.utils.Bunch"
      ]
     },
     "execution_count": 27,
     "metadata": {},
     "output_type": "execute_result"
    }
   ],
   "source": [
    "from sklearn.datasets import fetch_20newsgroups\n",
    "twenty_train = fetch_20newsgroups(subset='train', shuffle=True)\n",
    "type(twenty_train)"
   ]
  },
  {
   "cell_type": "code",
   "execution_count": 28,
   "metadata": {},
   "outputs": [
    {
     "name": "stdout",
     "output_type": "stream",
     "text": [
      "From: lerxst@wam.umd.edu (where's my thing)\n",
      "Subject: WHAT car is this!?\n",
      "Nntp-Posting-Host: rac3.wam.umd.edu\n"
     ]
    }
   ],
   "source": [
    "twenty_train.target_names #prints all the categories\n",
    "print(\"\\n\".join(twenty_train.data[0].split(\"\\n\")[:3])) #prints first line of the first data file"
   ]
  },
  {
   "cell_type": "code",
   "execution_count": 29,
   "metadata": {},
   "outputs": [
    {
     "data": {
      "text/plain": [
       "(645, 5854)"
      ]
     },
     "execution_count": 29,
     "metadata": {},
     "output_type": "execute_result"
    }
   ],
   "source": [
    "from sklearn.feature_extraction.text import TfidfTransformer\n",
    "tfidf_transformer = TfidfTransformer()\n",
    "X_train_tfidf = tfidf_transformer.fit_transform(X_train_counts)\n",
    "X_train_tfidf.shape"
   ]
  },
  {
   "cell_type": "code",
   "execution_count": 30,
   "metadata": {},
   "outputs": [
    {
     "ename": "ValueError",
     "evalue": "Found input variables with inconsistent numbers of samples: [645, 11314]",
     "output_type": "error",
     "traceback": [
      "\u001b[1;31m---------------------------------------------------------------------------\u001b[0m",
      "\u001b[1;31mValueError\u001b[0m                                Traceback (most recent call last)",
      "\u001b[1;32m<ipython-input-30-7bb0c4e908fb>\u001b[0m in \u001b[0;36m<module>\u001b[1;34m()\u001b[0m\n\u001b[0;32m      1\u001b[0m \u001b[1;32mfrom\u001b[0m \u001b[0msklearn\u001b[0m\u001b[1;33m.\u001b[0m\u001b[0mnaive_bayes\u001b[0m \u001b[1;32mimport\u001b[0m \u001b[0mMultinomialNB\u001b[0m\u001b[1;33m\u001b[0m\u001b[0m\n\u001b[1;32m----> 2\u001b[1;33m \u001b[0mclf\u001b[0m \u001b[1;33m=\u001b[0m \u001b[0mMultinomialNB\u001b[0m\u001b[1;33m(\u001b[0m\u001b[1;33m)\u001b[0m\u001b[1;33m.\u001b[0m\u001b[0mfit\u001b[0m\u001b[1;33m(\u001b[0m\u001b[0mX_train_tfidf\u001b[0m\u001b[1;33m,\u001b[0m \u001b[0mtwenty_train\u001b[0m\u001b[1;33m.\u001b[0m\u001b[0mtarget\u001b[0m\u001b[1;33m)\u001b[0m\u001b[1;33m\u001b[0m\u001b[0m\n\u001b[0m",
      "\u001b[1;32m~\\AppData\\Local\\Continuum\\anaconda32\\lib\\site-packages\\sklearn\\naive_bayes.py\u001b[0m in \u001b[0;36mfit\u001b[1;34m(self, X, y, sample_weight)\u001b[0m\n\u001b[0;32m    577\u001b[0m             \u001b[0mReturns\u001b[0m \u001b[0mself\u001b[0m\u001b[1;33m.\u001b[0m\u001b[1;33m\u001b[0m\u001b[0m\n\u001b[0;32m    578\u001b[0m         \"\"\"\n\u001b[1;32m--> 579\u001b[1;33m         \u001b[0mX\u001b[0m\u001b[1;33m,\u001b[0m \u001b[0my\u001b[0m \u001b[1;33m=\u001b[0m \u001b[0mcheck_X_y\u001b[0m\u001b[1;33m(\u001b[0m\u001b[0mX\u001b[0m\u001b[1;33m,\u001b[0m \u001b[0my\u001b[0m\u001b[1;33m,\u001b[0m \u001b[1;34m'csr'\u001b[0m\u001b[1;33m)\u001b[0m\u001b[1;33m\u001b[0m\u001b[0m\n\u001b[0m\u001b[0;32m    580\u001b[0m         \u001b[0m_\u001b[0m\u001b[1;33m,\u001b[0m \u001b[0mn_features\u001b[0m \u001b[1;33m=\u001b[0m \u001b[0mX\u001b[0m\u001b[1;33m.\u001b[0m\u001b[0mshape\u001b[0m\u001b[1;33m\u001b[0m\u001b[0m\n\u001b[0;32m    581\u001b[0m \u001b[1;33m\u001b[0m\u001b[0m\n",
      "\u001b[1;32m~\\AppData\\Local\\Continuum\\anaconda32\\lib\\site-packages\\sklearn\\utils\\validation.py\u001b[0m in \u001b[0;36mcheck_X_y\u001b[1;34m(X, y, accept_sparse, dtype, order, copy, force_all_finite, ensure_2d, allow_nd, multi_output, ensure_min_samples, ensure_min_features, y_numeric, warn_on_dtype, estimator)\u001b[0m\n\u001b[0;32m    581\u001b[0m         \u001b[0my\u001b[0m \u001b[1;33m=\u001b[0m \u001b[0my\u001b[0m\u001b[1;33m.\u001b[0m\u001b[0mastype\u001b[0m\u001b[1;33m(\u001b[0m\u001b[0mnp\u001b[0m\u001b[1;33m.\u001b[0m\u001b[0mfloat64\u001b[0m\u001b[1;33m)\u001b[0m\u001b[1;33m\u001b[0m\u001b[0m\n\u001b[0;32m    582\u001b[0m \u001b[1;33m\u001b[0m\u001b[0m\n\u001b[1;32m--> 583\u001b[1;33m     \u001b[0mcheck_consistent_length\u001b[0m\u001b[1;33m(\u001b[0m\u001b[0mX\u001b[0m\u001b[1;33m,\u001b[0m \u001b[0my\u001b[0m\u001b[1;33m)\u001b[0m\u001b[1;33m\u001b[0m\u001b[0m\n\u001b[0m\u001b[0;32m    584\u001b[0m \u001b[1;33m\u001b[0m\u001b[0m\n\u001b[0;32m    585\u001b[0m     \u001b[1;32mreturn\u001b[0m \u001b[0mX\u001b[0m\u001b[1;33m,\u001b[0m \u001b[0my\u001b[0m\u001b[1;33m\u001b[0m\u001b[0m\n",
      "\u001b[1;32m~\\AppData\\Local\\Continuum\\anaconda32\\lib\\site-packages\\sklearn\\utils\\validation.py\u001b[0m in \u001b[0;36mcheck_consistent_length\u001b[1;34m(*arrays)\u001b[0m\n\u001b[0;32m    202\u001b[0m     \u001b[1;32mif\u001b[0m \u001b[0mlen\u001b[0m\u001b[1;33m(\u001b[0m\u001b[0muniques\u001b[0m\u001b[1;33m)\u001b[0m \u001b[1;33m>\u001b[0m \u001b[1;36m1\u001b[0m\u001b[1;33m:\u001b[0m\u001b[1;33m\u001b[0m\u001b[0m\n\u001b[0;32m    203\u001b[0m         raise ValueError(\"Found input variables with inconsistent numbers of\"\n\u001b[1;32m--> 204\u001b[1;33m                          \" samples: %r\" % [int(l) for l in lengths])\n\u001b[0m\u001b[0;32m    205\u001b[0m \u001b[1;33m\u001b[0m\u001b[0m\n\u001b[0;32m    206\u001b[0m \u001b[1;33m\u001b[0m\u001b[0m\n",
      "\u001b[1;31mValueError\u001b[0m: Found input variables with inconsistent numbers of samples: [645, 11314]"
     ]
    }
   ],
   "source": [
    "from sklearn.naive_bayes import MultinomialNB\n",
    "clf = MultinomialNB().fit(X_train_tfidf, twenty_train.target)"
   ]
  },
  {
   "cell_type": "code",
   "execution_count": 31,
   "metadata": {},
   "outputs": [],
   "source": [
    ">>> from sklearn.pipeline import Pipeline\n",
    ">>> text_clf = Pipeline([('vect', CountVectorizer()),\n",
    "...                      ('tfidf', TfidfTransformer()),\n",
    "...                      ('clf', MultinomialNB()),\n",
    "... ])\n",
    "text_clf = text_clf.fit(twenty_train.data, twenty_train.target)"
   ]
  },
  {
   "cell_type": "code",
   "execution_count": 33,
   "metadata": {},
   "outputs": [
    {
     "data": {
      "text/plain": [
       "0.7738980350504514"
      ]
     },
     "execution_count": 33,
     "metadata": {},
     "output_type": "execute_result"
    }
   ],
   "source": [
    "import numpy as np\n",
    "twenty_test = fetch_20newsgroups(subset='test', shuffle=True)\n",
    "predicted = text_clf.predict(twenty_test.data)\n",
    "np.mean(predicted == twenty_test.target)"
   ]
  },
  {
   "cell_type": "code",
   "execution_count": 91,
   "metadata": {},
   "outputs": [
    {
     "name": "stderr",
     "output_type": "stream",
     "text": [
      "C:\\Users\\ilona.l.lehtinen\\AppData\\Local\\Continuum\\anaconda32\\lib\\site-packages\\sklearn\\linear_model\\stochastic_gradient.py:117: DeprecationWarning: n_iter parameter is deprecated in 0.19 and will be removed in 0.21. Use max_iter and tol instead.\n",
      "  DeprecationWarning)\n"
     ]
    },
    {
     "data": {
      "text/plain": [
       "0.8238183749336165"
      ]
     },
     "execution_count": 91,
     "metadata": {},
     "output_type": "execute_result"
    }
   ],
   "source": [
    ">>> from sklearn.linear_model import SGDClassifier\n",
    ">>> text_clf_svm = Pipeline([('vect', CountVectorizer()),\n",
    "...                      ('tfidf', TfidfTransformer()),\n",
    "...                      ('clf-svm', SGDClassifier(loss='hinge', penalty='l2',\n",
    "...                                            alpha=1e-3, n_iter=5, random_state=42)),\n",
    "... ])\n",
    ">>> _ = text_clf_svm.fit(twenty_train.data, twenty_train.target)\n",
    ">>> predicted_svm = text_clf_svm.predict(twenty_test.data)\n",
    ">>> np.mean(predicted_svm == twenty_test.target)"
   ]
  },
  {
   "cell_type": "code",
   "execution_count": 92,
   "metadata": {},
   "outputs": [],
   "source": [
    ">>> from sklearn.model_selection import GridSearchCV\n",
    ">>> parameters = {'vect__ngram_range': [(1, 1), (1, 2)],\n",
    "...               'tfidf__use_idf': (True, False),\n",
    "...               'clf__alpha': (1e-2, 1e-3),\n",
    "... }"
   ]
  }
 ],
 "metadata": {
  "kernelspec": {
   "display_name": "Python 3",
   "language": "python",
   "name": "python3"
  },
  "language_info": {
   "codemirror_mode": {
    "name": "ipython",
    "version": 3
   },
   "file_extension": ".py",
   "mimetype": "text/x-python",
   "name": "python",
   "nbconvert_exporter": "python",
   "pygments_lexer": "ipython3",
   "version": "3.6.5"
  }
 },
 "nbformat": 4,
 "nbformat_minor": 2
}
